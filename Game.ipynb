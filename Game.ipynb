{
 "cells": [
  {
   "cell_type": "code",
   "execution_count": null,
   "id": "aac71472",
   "metadata": {},
   "outputs": [],
   "source": [
    "import tkinter as tk\n",
    "from tkinter import messagebox\n",
    "\n",
    "# Initialize tkinter\n",
    "root = tk.Tk()\n",
    "root.title(\"Pirate's Lost Treasure\")\n",
    "\n",
    "# Create a label for the game's introduction\n",
    "label = tk.Label(root, text=\"Welcome to the Pirate's Lost Treasure Game!\\nYou have embarked on a journey to find the lost treasure of Captain Blackbeard. Solve the puzzles and avoid the traps to claim the treasure for yourself!\\n\\nYou find yourself on an island. What will you do?\", wraplength=300)\n",
    "label.pack(padx=10, pady=10)\n",
    "\n",
    "# Create buttons for user choices\n",
    "def choice_a():\n",
    "    label.config(text=\"You've encountered a group of pirates! They offer to help you for a share of the treasure. What will you do?\")\n",
    "    button_a.config(text=\"Agree and share the treasure\")\n",
    "    button_b.config(text=\"Refuse and continue alone\")\n",
    "    button_a.config(command=choice_b)\n",
    "    button_b.config(command=choice_c)\n",
    "\n",
    "def choice_b():\n",
    "    label.config(text=\"The pirates have betrayed you and taken the treasure for themselves. You lose!\")\n",
    "    button_a.pack_forget()\n",
    "    button_b.pack_forget()\n",
    "\n",
    "def choice_c():\n",
    "    label.config(text=\"You've successfully avoided a betrayal. You now face a riddle written on a stone. Solve it to proceed.\\n'I speak without a mouth and hear without ears. I have no body, but I come alive with the wind. What am I?'\")\n",
    "    button_a.config(text=\"Fire\")\n",
    "    button_b.config(text=\"Echo\")\n",
    "    button_a.config(command=choice_d)\n",
    "    button_b.config(command=choice_b)\n",
    "\n",
    "def choice_d():\n",
    "    label.config(text=\"Correct! The path to the treasure opens up before you. However, there's a final challenge awaiting you. You must spell out the word 'TREASURE' using the clues hidden around the area. Good luck!\")\n",
    "    button_a.pack_forget()\n",
    "    button_b.pack_forget()\n",
    "\n",
    "def show_message():\n",
    "    messagebox.showinfo(\"Congratulations!\", \"You have found the Pirate's Lost Treasure!\")\n",
    "\n",
    "button_a = tk.Button(root, text=\"Approach the pirates\", command=choice_a)\n",
    "button_b = tk.Button(root, text=\"Explore the island alone\", command=choice_c)\n",
    "\n",
    "button_a.pack(pady=5)\n",
    "button_b.pack(pady=5)\n",
    "\n",
    "# Start the main loop\n",
    "root.mainloop()\n",
    "\n"
   ]
  },
  {
   "cell_type": "code",
   "execution_count": null,
   "id": "40e3efa8",
   "metadata": {},
   "outputs": [],
   "source": []
  }
 ],
 "metadata": {
  "kernelspec": {
   "display_name": "Python 3 (ipykernel)",
   "language": "python",
   "name": "python3"
  },
  "language_info": {
   "codemirror_mode": {
    "name": "ipython",
    "version": 3
   },
   "file_extension": ".py",
   "mimetype": "text/x-python",
   "name": "python",
   "nbconvert_exporter": "python",
   "pygments_lexer": "ipython3",
   "version": "3.11.3"
  }
 },
 "nbformat": 4,
 "nbformat_minor": 5
}
